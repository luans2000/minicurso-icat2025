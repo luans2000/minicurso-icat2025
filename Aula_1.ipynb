{
  "nbformat": 4,
  "nbformat_minor": 0,
  "metadata": {
    "colab": {
      "provenance": [],
      "toc_visible": true
    },
    "kernelspec": {
      "name": "python3",
      "display_name": "Python 3"
    },
    "language_info": {
      "name": "python"
    }
  },
  "cells": [
    {
      "cell_type": "markdown",
      "source": [
        "# Introdução ao Python"
      ],
      "metadata": {
        "id": "vQm-P9kgMNBq"
      }
    },
    {
      "cell_type": "code",
      "source": [
        "print(\"Olá, Mundo\")"
      ],
      "metadata": {
        "id": "wM_LhEk3QNR2"
      },
      "execution_count": null,
      "outputs": []
    },
    {
      "cell_type": "code",
      "source": [
        "print(\"Bem-vindos ao minicurso de python aplicado a meteorologia\")"
      ],
      "metadata": {
        "id": "x56JWZ3jQQsb"
      },
      "execution_count": null,
      "outputs": []
    },
    {
      "cell_type": "code",
      "execution_count": null,
      "metadata": {
        "id": "5ubHz7gzMGLZ"
      },
      "outputs": [],
      "source": [
        "print(2 + 2)"
      ]
    },
    {
      "cell_type": "code",
      "source": [
        "print(50 - 5*6)"
      ],
      "metadata": {
        "id": "lXTWVoEXP-iF"
      },
      "execution_count": null,
      "outputs": []
    },
    {
      "cell_type": "code",
      "source": [
        "print(8 / 5)"
      ],
      "metadata": {
        "id": "170CfzcmP2je"
      },
      "execution_count": null,
      "outputs": []
    },
    {
      "cell_type": "code",
      "source": [
        "a = 20\n",
        "b = 5 * 9\n",
        "c = a + b\n",
        "print(c)"
      ],
      "metadata": {
        "id": "PRlJozHrQgiz"
      },
      "execution_count": null,
      "outputs": []
    },
    {
      "cell_type": "code",
      "source": [
        "listas = [1, 4, 9, 16, 25]\n",
        "print(listas)"
      ],
      "metadata": {
        "id": "Rpx-PXRxQghH"
      },
      "execution_count": null,
      "outputs": []
    },
    {
      "cell_type": "code",
      "source": [
        "for numero in range(1, 10):\n",
        "  print(numero)\n"
      ],
      "metadata": {
        "id": "3ut_kOm-Qgee"
      },
      "execution_count": null,
      "outputs": []
    },
    {
      "cell_type": "code",
      "source": [
        "temperatura = 20\n",
        "\n",
        "if temperatura < 50:\n",
        "  print(\"Temperatura menor que 50 graus Celsius\")"
      ],
      "metadata": {
        "id": "Cj4deZGJRNjv"
      },
      "execution_count": null,
      "outputs": []
    },
    {
      "cell_type": "code",
      "source": [
        "temperatura = 45\n",
        "\n",
        "if temperatura < 40:\n",
        "  print(\"Temperatura menor que 40 graus Celsius\")\n",
        "else:\n",
        "  print(\"Temperatura maior que 40 graus Celsius\")\n"
      ],
      "metadata": {
        "id": "GouNcO-sRXRz"
      },
      "execution_count": null,
      "outputs": []
    },
    {
      "cell_type": "code",
      "source": [
        "umidade_relativa = 80\n",
        "temperatura = 20\n",
        "\n",
        "if umidade_relativa <= 30 and temperatura >= 40:\n",
        "  print(\"Condição perigosa\")\n",
        "else:\n",
        "  print(\"Condição favorável\")"
      ],
      "metadata": {
        "id": "kisob-rERXLo"
      },
      "execution_count": null,
      "outputs": []
    },
    {
      "cell_type": "code",
      "source": [
        "umidade_relativa = 80\n",
        "temperatura = 45\n",
        "\n",
        "if umidade_relativa <= 30 or temperatura >= 40:\n",
        "  print(\"Condição perigosa\")\n",
        "else:\n",
        "  print(\"Condição favorável\")"
      ],
      "metadata": {
        "id": "HHRAm_VsR0_e"
      },
      "execution_count": null,
      "outputs": []
    },
    {
      "cell_type": "markdown",
      "source": [
        "# Vamos a prática"
      ],
      "metadata": {
        "id": "76dptjoUMQiT"
      }
    },
    {
      "cell_type": "markdown",
      "source": [
        "## Carregando bibliotecas"
      ],
      "metadata": {
        "id": "iIwdjCLYMT28"
      }
    },
    {
      "cell_type": "code",
      "source": [
        "!pip install netCDF4\n",
        "!pip install cfgrib\n",
        "!pip install windrose"
      ],
      "metadata": {
        "id": "JWARtifdek3e"
      },
      "execution_count": null,
      "outputs": []
    },
    {
      "cell_type": "code",
      "source": [
        "import pandas as pd\n",
        "import xarray as xr\n",
        "import numpy as np\n",
        "import matplotlib.pyplot as plt\n",
        "import matplotlib.dates as mdates\n",
        "from windrose import WindroseAxes\n",
        "import seaborn as sns"
      ],
      "metadata": {
        "id": "6HqvgWM6MedR"
      },
      "execution_count": null,
      "outputs": []
    },
    {
      "cell_type": "markdown",
      "source": [
        "## Importando dados"
      ],
      "metadata": {
        "id": "9h54vy0PMYAn"
      }
    },
    {
      "cell_type": "code",
      "source": [
        "#################################################################\n",
        "# IMPORTANDO DADOS DO ERA5 --> Registros de vento, pressão atmosférica, temperatura do ar e temperatura do ponto de orvalho\n",
        "#################################################################\n",
        "ds_ERA5 = xr.open_dataset('/content/ERA5_2015-2024.grib', engine='cfgrib')\n",
        "print(ds_ERA5)"
      ],
      "metadata": {
        "id": "CmmAzTKoMeEf"
      },
      "execution_count": null,
      "outputs": []
    },
    {
      "cell_type": "code",
      "source": [
        "###################################################\n",
        "# IMPORTANDO DADOS DO MERGE-CPTEC --> Registros de Chuva\n",
        "###################################################\n",
        "ds_MERGE = xr.open_dataset('/content/MERGE_CPTEC_BRASIL_2015-2024.nc')\n",
        "print(ds_MERGE)"
      ],
      "metadata": {
        "id": "cHifYSs3xOEM"
      },
      "execution_count": null,
      "outputs": []
    },
    {
      "cell_type": "code",
      "source": [
        "# Calculando a Velocidade do Vento a 10metros\n",
        "ds_ERA5['vv10m'] = np.sqrt(ds_ERA5['v10']**2 + ds_ERA5['u10']**2)\n",
        "\n",
        "# Calculando a direção do vento\n",
        "ds_ERA5['dv10m'] = (np.rad2deg(np.arctan2(-ds_ERA5['u10'], -ds_ERA5['v10'])) + 360) % 360\n",
        "\n",
        "# Conversão da temperatura do ar de Kelvin para Celsius\n",
        "ds_ERA5['temp_c'] = ds_ERA5['t2m'] - 273.15\n",
        "\n",
        "# Conversão da temperatura do ponto de orvalho de Kelvin para Celsius\n",
        "ds_ERA5['temp_orvalho_c'] = ds_ERA5['d2m'] - 273.15\n",
        "\n",
        "# Conversão da pressão atmosférica de Pa para hPa\n",
        "ds_ERA5['pressao_atm'] = ds_ERA5['sp']/100\n",
        "\n",
        "# Calculando a pressão de vapor de saturação e pressão de vapor real\n",
        "T = ds_ERA5['temp_c']\n",
        "Td = ds_ERA5['temp_orvalho_c']\n",
        "\n",
        "es = 6.112 * np.exp((17.67 * T) / (T + 243.5))\n",
        "e = 6.112 * np.exp((17.67 * Td) / (Td + 243.5))\n",
        "\n",
        "# Calcula a Umidade Relativa\n",
        "ds_ERA5['umidade_rel'] = 100 * (e / es)"
      ],
      "metadata": {
        "id": "M_UqsZaLiyvZ"
      },
      "execution_count": null,
      "outputs": []
    },
    {
      "cell_type": "markdown",
      "source": [
        "## Séries temporais"
      ],
      "metadata": {
        "id": "ZjK3CNjfMa1G"
      }
    },
    {
      "cell_type": "code",
      "source": [
        "lat = -9.55   # sua latitude\n",
        "lon = -35.77   # sua longitude\n",
        "\n",
        "# Seleciona o ponto mais próximo dessa coordenada\n",
        "ERA5_ponto = ds_ERA5.sel(latitude=lat, longitude=lon, method='nearest')\n",
        "MERGE_ponto = ds_MERGE.sel(lat=lat, lon=lon, method='nearest')"
      ],
      "metadata": {
        "id": "zporqhzOMKs4"
      },
      "execution_count": null,
      "outputs": []
    },
    {
      "cell_type": "code",
      "source": [
        "# Extraindo a série temporal\n",
        "serie = ERA5_ponto['temp_c']\n",
        "\n",
        "# Plotando\n",
        "plt.figure(figsize=(10, 4))\n",
        "serie.plot()\n",
        "plt.title(f\"Temperatura do Ar em Maceió/Alagoas\")\n",
        "plt.xlabel(\"Data\")\n",
        "plt.ylabel(\"[°C]\")  # ou outra unidade conforme a variável\n",
        "plt.grid()\n",
        "plt.show()"
      ],
      "metadata": {
        "id": "BAlw3j51MKn0"
      },
      "execution_count": null,
      "outputs": []
    },
    {
      "cell_type": "code",
      "source": [
        "# Extraindo a série temporal\n",
        "serie = ERA5_ponto['temp_c']\n",
        "\n",
        "# Plotando com personalizações\n",
        "plt.figure(figsize=(12, 5))\n",
        "serie.plot(color='blue', linestyle='-', linewidth=2, marker='o', markersize=4)\n",
        "\n",
        "plt.title(\"Maceió/Alagoas\", fontsize=14, fontweight='bold')\n",
        "plt.xlabel(\"Data\", fontsize=12)\n",
        "plt.ylabel(\"Temperatura do Ar [°C]\", fontsize=12)\n",
        "plt.grid(visible=True, linestyle='--', alpha=0.9)\n",
        "plt.ylim(23,29)\n",
        "plt.tight_layout()\n",
        "plt.show()"
      ],
      "metadata": {
        "id": "Lnpb2HSsmLmp"
      },
      "execution_count": null,
      "outputs": []
    },
    {
      "cell_type": "code",
      "source": [
        "# Extraindo as séries\n",
        "serie1 = ERA5_ponto['temp_c']         # Temperatura do Ar [°C]\n",
        "serie2 = ERA5_ponto['umidade_rel']    # Umidade Relativa [%]\n",
        "\n",
        "# ========================\n",
        "# CRIAÇÃO DA FIGURA E EIXO PRINCIPAL (TEMPERATURA)\n",
        "# ========================\n",
        "fig, ax1 = plt.subplots(figsize=(12, 5))\n",
        "\n",
        "# Plotando a temperatura\n",
        "ax1.plot(serie1['time'], serie1.values, color='blue', linestyle='-', linewidth=2, marker='o', markersize=4)\n",
        "ax1.set_xlabel(\"Data\", fontsize=12)\n",
        "ax1.set_ylabel(\"Temperatura do Ar [°C]\", fontsize=12, color='blue')\n",
        "ax1.tick_params(axis='y', labelcolor='blue')\n",
        "ax1.set_ylim(23, 29)\n",
        "\n",
        "# Criando o segundo eixo y\n",
        "ax2 = ax1.twinx()\n",
        "\n",
        "# ========================\n",
        "# PRIMEIRO EIXO SECUNDÁRIO (UMIDADE RELATIVA)\n",
        "# ========================\n",
        "ax2.plot(serie2['time'], serie2.values, color='green', linestyle='--', linewidth=2, marker='s', markersize=4)\n",
        "ax2.set_ylabel(\"Umidade Relativa [%]\", fontsize=12, color='green')\n",
        "ax2.tick_params(axis='y', labelcolor='green')\n",
        "ax2.set_ylim(60, 100)  # Ajuste conforme os valores reais da variável\n",
        "\n",
        "# Título\n",
        "plt.title(\"Maceió/Alagoas\", fontsize=14, fontweight='bold')\n",
        "ax1.grid(True, linestyle='--', alpha=0.5)\n",
        "\n",
        "# Layout\n",
        "fig.tight_layout()\n",
        "plt.show()"
      ],
      "metadata": {
        "id": "A2XrPjYSp_4f"
      },
      "execution_count": null,
      "outputs": []
    },
    {
      "cell_type": "code",
      "source": [
        "# Extraindo as variáveis\n",
        "barra = MERGE_ponto['pacum']             # Precipitação\n",
        "linha1 = ERA5_ponto['temp_c']            # Temperatura\n",
        "linha2 = ERA5_ponto['umidade_rel']       # Umidade Relativa\n",
        "\n",
        "# ========================\n",
        "# CRIAÇÃO DA FIGURA E EIXO PRINCIPAL (PRECIPITÇÃO)\n",
        "# ========================\n",
        "fig, ax1 = plt.subplots(figsize=(13, 5))\n",
        "\n",
        "# Variável em barras (precipitação)\n",
        "dates = mdates.date2num(barra['time'])\n",
        "ax1.bar(dates, barra.values, color='blue', width=20)\n",
        "ax1.xaxis_date()  # para manter o formato de data no eixo X\n",
        "ax1.set_xlabel(\"Data\", fontsize=12)\n",
        "ax1.set_ylabel(\"Precipitação [mm]\", fontsize=12, color='blue')\n",
        "ax1.tick_params(axis='y', labelcolor='blue')\n",
        "ax1.set_ylim(0, 500)\n",
        "\n",
        "# ========================\n",
        "# PRIMEIRO EIXO SECUNDÁRIO (TEMPERATURA)\n",
        "# ========================\n",
        "ax2 = ax1.twinx()\n",
        "ax2.plot(linha1['time'], linha1.values, color='orangered', linestyle='-', linewidth=2, marker='o')\n",
        "ax2.set_ylabel(\"Temperatura [°C]\", fontsize=12, color='orangered')\n",
        "ax2.tick_params(axis='y', labelcolor='orangered')\n",
        "ax2.set_ylim(23, 29)\n",
        "\n",
        "# ========================\n",
        "# TERCEIRO EIXO (UMIDADE RELATIVA)\n",
        "# ========================\n",
        "ax3 = ax1.twinx()\n",
        "ax3.spines.right.set_position((\"axes\", 1.1))  # desloca o eixo para a direita (para não sobrepor o segundo)\n",
        "ax3.plot(linha2['time'], linha2.values, color='green', linestyle='--', linewidth=2, marker='s')\n",
        "ax3.set_ylabel(\"Umidade Relativa [%]\", fontsize=12, color='green')\n",
        "ax3.tick_params(axis='y', labelcolor='green')\n",
        "ax3.set_ylim(60, 100)\n",
        "\n",
        "# Título\n",
        "plt.title(\"Maceió/AL\", fontsize=14, fontweight='bold')\n",
        "ax1.grid(True, linestyle='--', alpha=0.5)\n",
        "\n",
        "fig.tight_layout()\n",
        "plt.show()"
      ],
      "metadata": {
        "id": "VbDS2yyAp_2K"
      },
      "execution_count": null,
      "outputs": []
    },
    {
      "cell_type": "code",
      "source": [
        "# Filtro para dados\n",
        "inicio = '2020-01-01'\n",
        "fim = '2020-12-31'\n",
        "\n",
        "# Extraindo as variáveis no intervalo definido\n",
        "barra = MERGE_ponto['pacum'].sel(time=slice(inicio, fim))          # Precipitação\n",
        "linha1 = ERA5_ponto['temp_c'].sel(time=slice(inicio, fim))         # Temperatura\n",
        "linha2 = ERA5_ponto['umidade_rel'].sel(time=slice(inicio, fim))    # Umidade Relativa\n",
        "\n",
        "# ========================\n",
        "# CRIAÇÃO DA FIGURA E EIXO PRINCIPAL (PRECIPITAÇÃO)\n",
        "# ========================\n",
        "fig, ax1 = plt.subplots(figsize=(13, 5))\n",
        "\n",
        "# Variável em barras (precipitação)\n",
        "dates = mdates.date2num(barra['time'])\n",
        "ax1.bar(dates, barra.values, color='blue', width=20)\n",
        "ax1.xaxis_date()\n",
        "ax1.set_xlabel(\"Data\", fontsize=12)\n",
        "ax1.set_ylabel(\"Precipitação [mm]\", fontsize=12, color='blue')\n",
        "ax1.tick_params(axis='y', labelcolor='blue')\n",
        "ax1.set_ylim(0, 500)\n",
        "ax1.xaxis.set_major_locator(mdates.MonthLocator())\n",
        "ax1.xaxis.set_major_formatter(mdates.DateFormatter('%b')) # Formatando o eixo X para mostrar os meses abreviados\n",
        "\n",
        "# ========================\n",
        "# PRIMEIRO EIXO SECUNDÁRIO (TEMPERATURA)\n",
        "# ========================\n",
        "ax2 = ax1.twinx()\n",
        "ax2.plot(linha1['time'], linha1.values, color='orangered', linestyle='-', linewidth=2, marker='o')\n",
        "ax2.set_ylabel(\"Temperatura [°C]\", fontsize=12, color='orangered')\n",
        "ax2.tick_params(axis='y', labelcolor='orangered')\n",
        "ax2.set_ylim(23, 29)\n",
        "\n",
        "# ========================\n",
        "# TERCEIRO EIXO (UMIDADE RELATIVA)\n",
        "# ========================\n",
        "ax3 = ax1.twinx()\n",
        "ax3.spines.right.set_position((\"axes\", 1.1))  # desloca o eixo para a direita (para não sobrepor o segundo)\n",
        "ax3.plot(linha2['time'], linha2.values, color='green', linestyle='--', linewidth=2, marker='s')\n",
        "ax3.set_ylabel(\"Umidade Relativa [%]\", fontsize=12, color='green')\n",
        "ax3.tick_params(axis='y', labelcolor='green')\n",
        "ax3.set_ylim(60, 100)\n",
        "\n",
        "# Título\n",
        "plt.title(\"Maceió/AL - 2020\", fontsize=14, fontweight='bold')\n",
        "ax1.grid(True, linestyle='--', alpha=0.5)\n",
        "\n",
        "fig.tight_layout()\n",
        "plt.show()"
      ],
      "metadata": {
        "id": "U-921CGks2Wr"
      },
      "execution_count": null,
      "outputs": []
    },
    {
      "cell_type": "code",
      "source": [
        "# Criando a rosa dos ventos\n",
        "wind_speed = ERA5_ponto['vv10m'].values\n",
        "wind_dir = ERA5_ponto['dv10m'].values\n",
        "\n",
        "# Criar a rosa dos ventos\n",
        "ax = WindroseAxes.from_ax()\n",
        "\n",
        "# Plotando os dados com cores definidas\n",
        "ax.bar(wind_dir, wind_speed, normed=True, opening=0.9, edgecolor='white')\n",
        "ax.set_theta_zero_location(\"E\")  # Define a direção do vento como referência\n",
        "ax.set_xticklabels([\"E\", \"NE\", \"N\", \"NW\", \"W\", \"SW\", \"S\", \"SE\"], fontsize=15)\n",
        "\n",
        "# Adiciona legenda com tamanho de fonte\n",
        "ax.set_legend(fontsize=20, bbox_to_anchor=(-0.3, 0.3), title=\"(m/s)\")\n",
        "\n",
        "# Título do gráfico\n",
        "plt.title('Direção predominante e velocidade do vento - Maceió/AL', fontsize=20, y=1.08)\n",
        "plt.show()"
      ],
      "metadata": {
        "id": "SEdA_Cv5CVZh"
      },
      "execution_count": null,
      "outputs": []
    },
    {
      "cell_type": "code",
      "source": [
        "# Extraindo a série temporal da variável de interesse (temperatura do ar em ºC)\n",
        "# Converte para DataFrame e reseta o índice para facilitar a manipulação\n",
        "serie = ERA5_ponto['temp_c'].to_dataframe().reset_index()\n",
        "\n",
        "# Extraindo o ano e o mês da coluna de tempo\n",
        "serie['Ano'] = serie['time'].dt.year\n",
        "serie['Mês'] = serie['time'].dt.month\n",
        "\n",
        "# Lista com os nomes dos meses em português\n",
        "Mes = [\n",
        "    \"Janeiro\", \"Fevereiro\", \"Março\", \"Abril\", \"Maio\", \"Junho\",\n",
        "    \"Julho\", \"Agosto\", \"Setembro\", \"Outubro\", \"Novembro\", \"Dezembro\"\n",
        "]\n",
        "\n",
        "# Mapeando os números dos meses (1-12) para seus respectivos nomes\n",
        "serie['Mês'] = serie['Mês'].apply(lambda x: Mes[x - 1])\n",
        "\n",
        "# Convertendo a coluna de meses para uma categoria ordenada (garante a ordem correta no gráfico)\n",
        "serie['Mês'] = pd.Categorical(serie['Mês'], categories=Mes, ordered=True)\n",
        "\n",
        "# Reorganizando o DataFrame em formato de tabela (estilo matriz)\n",
        "# Índice = Mês, Colunas = Ano, Valores = Temperatura\n",
        "dados = serie.pivot(index=\"Mês\", columns=\"Ano\", values=\"temp_c\")\n",
        "\n",
        "# Criando a figura e os eixos (um para o gráfico e outro para a barra de cores)\n",
        "f, (ax, cbar_ax) = plt.subplots(\n",
        "    2,                             # Dois eixos: um para o heatmap e outro para a barra de cores\n",
        "    gridspec_kw={\n",
        "        \"height_ratios\": (0.9, 0.05),  # Tamanho relativo dos eixos\n",
        "        \"hspace\": 0.3                  # Espaço entre os eixos\n",
        "    },\n",
        "    figsize=(9, 6)                # Tamanho da figura\n",
        ")\n",
        "\n",
        "# Criando o heatmap com Seaborn\n",
        "ax = sns.heatmap(\n",
        "    dados,                        # Dados organizados por mês e ano\n",
        "    ax=ax,                        # Eixo principal\n",
        "    annot=True,                   # Exibe os valores dentro das células\n",
        "    square=False,                 # Células não precisam ser quadradas\n",
        "    annot_kws={\"size\": 10},       # Tamanho do texto dentro das células\n",
        "    yticklabels=Mes,              # Rótulos do eixo Y (nomes dos meses)\n",
        "    cbar_ax=cbar_ax,              # Eixo da barra de cores\n",
        "    cbar_kws={\"orientation\": \"horizontal\"},  # Barra de cores na horizontal\n",
        "    cmap=\"jet\",                   # Paleta de cores\n",
        "    vmin=23,                      # Valor mínimo da escala de cor\n",
        "    vmax=28,                      # Valor máximo da escala de cor\n",
        "    linewidths=0.5                # Espessura das linhas entre as células\n",
        ")\n",
        "\n",
        "# Definindo o título do gráfico\n",
        "ax.set_title(\"Heatmap da Temperatura do Ar em Maceió/AL\", fontsize=12, y=1.08)\n",
        "\n",
        "# Personalizando os eixos\n",
        "ax.tick_params(labelsize=12)     # Tamanho dos rótulos do eixo\n",
        "ax.set_xlabel(\"Ano\", fontsize=12)\n",
        "ax.set_ylabel(\"Mês\", fontsize=12)\n",
        "\n",
        "# Ajustando a fonte da barra de cores\n",
        "cbar_ax.tick_params(labelsize=12)"
      ],
      "metadata": {
        "id": "P4BAwqfeCVRl"
      },
      "execution_count": null,
      "outputs": []
    },
    {
      "cell_type": "markdown",
      "source": [
        "# Links Úteis"
      ],
      "metadata": {
        "id": "zopZ7wSGAtdY"
      }
    },
    {
      "cell_type": "markdown",
      "source": [
        "Seleção de cores:\n",
        "\n",
        "https://matplotlib.org/stable/users/explain/colors/colormaps.html\n",
        "\n",
        "https://matplotlib.org/stable/gallery/color/named_colors.html"
      ],
      "metadata": {
        "id": "-6YeXlkDAzMV"
      }
    },
    {
      "cell_type": "markdown",
      "source": [
        "Estilos de linha:\n",
        "\n",
        "https://matplotlib.org/stable/gallery/lines_bars_and_markers/linestyles.html"
      ],
      "metadata": {
        "id": "gAUZxkHSBV3R"
      }
    },
    {
      "cell_type": "markdown",
      "source": [
        "Estilo de marcadores:\n",
        "\n",
        "https://matplotlib.org/stable/gallery/lines_bars_and_markers/linestyles.html\n"
      ],
      "metadata": {
        "id": "BJUuPmsxBZYT"
      }
    },
    {
      "cell_type": "markdown",
      "source": [
        "Espessura da linha:\n",
        "\n",
        "https://matplotlib.org/stable/gallery/lines_bars_and_markers/linestyles.html"
      ],
      "metadata": {
        "id": "wp5rw3A1Bg07"
      }
    }
  ]
}