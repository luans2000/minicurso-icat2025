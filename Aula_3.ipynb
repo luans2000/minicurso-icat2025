{
  "nbformat": 4,
  "nbformat_minor": 0,
  "metadata": {
    "colab": {
      "provenance": []
    },
    "kernelspec": {
      "name": "python3",
      "display_name": "Python 3"
    },
    "language_info": {
      "name": "python"
    }
  },
  "cells": [
    {
      "cell_type": "markdown",
      "source": [
        "# Carregando bibliotecas"
      ],
      "metadata": {
        "id": "6O7e-xbU-DV_"
      }
    },
    {
      "cell_type": "code",
      "execution_count": null,
      "metadata": {
        "id": "PXzhZcCa98YS"
      },
      "outputs": [],
      "source": [
        "!pip install netCDF4\n",
        "!pip install cfgrib\n",
        "!pip install cartopy\n",
        "!pip install metpy"
      ]
    },
    {
      "cell_type": "code",
      "source": [
        "import pandas as pd\n",
        "import xarray as xr\n",
        "import numpy as np\n",
        "import matplotlib.pyplot as plt\n",
        "import matplotlib.dates as mdates\n",
        "from datetime import datetime, timedelta\n",
        "import cartopy.crs as ccrs\n",
        "import cartopy.feature as cfeature\n",
        "import matplotlib.colors as mcolors\n",
        "import matplotlib.pyplot as plt\n",
        "from metpy.units import units\n",
        "import matplotlib as mpl"
      ],
      "metadata": {
        "id": "8sFA8VNr7Sw6"
      },
      "execution_count": null,
      "outputs": []
    },
    {
      "cell_type": "markdown",
      "source": [
        "# Importando dados"
      ],
      "metadata": {
        "id": "klY_-a-W-PaS"
      }
    },
    {
      "cell_type": "code",
      "source": [
        "#################################################################\n",
        "# IMPORTANDO DADOS DO ERA5 --> Registros de vento, pressão atmosférica, temperatura do ar e temperatura do ponto de orvalho\n",
        "#################################################################\n",
        "ds_ERA5 = xr.open_dataset('/content/ERA5_2015-2024.grib', engine='cfgrib')\n",
        "print(ds_ERA5)"
      ],
      "metadata": {
        "id": "KIzKSL5N-OrY"
      },
      "execution_count": null,
      "outputs": []
    },
    {
      "cell_type": "code",
      "source": [
        "###################################################\n",
        "# IMPORTANDO DADOS DO MERGE-CPTEC --> Registros de Chuva\n",
        "###################################################\n",
        "ds_MERGE = xr.open_dataset('/content/MERGE_CPTEC_BRASIL_2015-2024.nc')\n",
        "print(ds_MERGE)"
      ],
      "metadata": {
        "id": "byL36752-OoM"
      },
      "execution_count": null,
      "outputs": []
    },
    {
      "cell_type": "code",
      "source": [
        "# Calculando a Velocidade do Vento a 10metros\n",
        "ds_ERA5['vv10m'] = np.sqrt(ds_ERA5['v10']**2 + ds_ERA5['u10']**2)\n",
        "\n",
        "# Calculando a direção do vento\n",
        "ds_ERA5['dv10m'] = (np.rad2deg(np.arctan2(-ds_ERA5['u10'], -ds_ERA5['v10'])) + 360) % 360\n",
        "\n",
        "# Conversão da temperatura do ar de Kelvin para Celsius\n",
        "ds_ERA5['temp_c'] = ds_ERA5['t2m'] - 273.15\n",
        "\n",
        "# Conversão da temperatura do ponto de orvalho de Kelvin para Celsius\n",
        "ds_ERA5['temp_orvalho_c'] = ds_ERA5['d2m'] - 273.15\n",
        "\n",
        "# Conversão da pressão atmosférica de Pa para hPa\n",
        "ds_ERA5['pressao_atm'] = ds_ERA5['sp']/100\n",
        "\n",
        "# Calculando a pressão de vapor de saturação e pressão de vapor real\n",
        "T = ds_ERA5['temp_c']\n",
        "Td = ds_ERA5['temp_orvalho_c']\n",
        "\n",
        "es = 6.112 * np.exp((17.67 * T) / (T + 243.5))\n",
        "e = 6.112 * np.exp((17.67 * Td) / (Td + 243.5))\n",
        "\n",
        "# Calcula a Umidade Relativa\n",
        "ds_ERA5['umidade_rel'] = 100 * (e / es)"
      ],
      "metadata": {
        "id": "thQwD29P-Z8p"
      },
      "execution_count": null,
      "outputs": []
    },
    {
      "cell_type": "markdown",
      "source": [
        "# Produção de Mapas"
      ],
      "metadata": {
        "id": "dkHbHWJR7i9W"
      }
    },
    {
      "cell_type": "code",
      "source": [
        "# Seleciona o mês e ano desejado\n",
        "ano = 2024\n",
        "mes = 1\n",
        "\n",
        "# =====================================\n",
        "# MERGE - Precipitação acumulada mensal\n",
        "# =====================================\n",
        "# Seleciona o dado do mês desejado\n",
        "data_mes_merge = ds_MERGE.sel(time=f'{ano}-{mes:02d}')\n",
        "\n",
        "# Extrai os valores das coordenadas de longitude e latitude do dataset ERA5\n",
        "x_merge = ds_MERGE['lon'].values\n",
        "y_merge = ds_MERGE['lat'].values\n",
        "# Cria uma grade 2D (malha) combinando todas as longitudes com todas as latitudes\n",
        "x_merge, y_merge = np.meshgrid(x_merge, y_merge)\n",
        "\n",
        "# =====================================\n",
        "# ERA5 - Variável meteorológica (ex: vento, temperatura)\n",
        "# =====================================\n",
        "# Seleciona o dado do mês desejado\n",
        "data_mes_era5 = ds_ERA5.sel(time=f'{ano}-{mes:02d}')\n",
        "\n",
        "# Extrai os valores das coordenadas de longitude e latitude do dataset ERA5\n",
        "x_era5 = ds_ERA5['longitude'].values\n",
        "y_era5 = ds_ERA5['latitude'].values\n",
        "# Cria uma grade 2D (malha) combinando todas as longitudes com todas as latitudes\n",
        "x_era5, y_era5 = np.meshgrid(x_era5, y_era5)\n",
        "\n",
        "# Projeção (exemplo com PlateCarree)\n",
        "proj = ccrs.PlateCarree()"
      ],
      "metadata": {
        "id": "symMRloF8sbx"
      },
      "execution_count": null,
      "outputs": []
    },
    {
      "cell_type": "code",
      "source": [
        "# =====================================\n",
        "# MERGE - Variável meteorológica precipitação\n",
        "# =====================================\n",
        "# Seleciona a variável de precipitação acumulada e remove a dimensão 'time'\n",
        "prcpvar = data_mes_merge['pacum'].squeeze()\n",
        "data_merge = prcpvar.values  # Dados de precipitação\n",
        "# =====================================\n",
        "\n",
        "# Cria uma figura com tamanho 8x8 polegadas\n",
        "fig = plt.figure(figsize=(8, 8))\n",
        "\n",
        "# Adiciona um único subplot com projeção geográfica definida em 'proj'\n",
        "ax = fig.add_subplot(1, 1, 1, projection=proj)\n",
        "\n",
        "# Desenha os contornos do mapa (litoral, fronteiras e estados)\n",
        "ax.coastlines()                     # Linhas costeiras\n",
        "ax.add_feature(cfeature.BORDERS)   # Fronteiras entre países\n",
        "ax.add_feature(cfeature.STATES)    # Limites dos estados (Brasil)\n",
        "\n",
        "# Define os níveis de contorno para a precipitação (em mm)\n",
        "clevs = [0, 1, 2.5, 5, 7.5, 10, 15, 20, 30, 40,\n",
        "         50, 70, 100, 150, 200, 250, 300, 400, 500, 600, 750]\n",
        "\n",
        "# Define a paleta de cores personalizada para representar os níveis de chuva\n",
        "cmap_data = [(1.0, 1.0, 1.0),\n",
        "             (0.3137255012989044, 0.8156862854957581, 0.8156862854957581),\n",
        "             (0.0, 1.0, 1.0),\n",
        "             (0.0, 0.8784313797950745, 0.501960813999176),\n",
        "             (0.0, 0.7529411911964417, 0.0),\n",
        "             (0.501960813999176, 0.8784313797950745, 0.0),\n",
        "             (1.0, 1.0, 0.0),\n",
        "             (1.0, 0.6274510025978088, 0.0),\n",
        "             (1.0, 0.0, 0.0),\n",
        "             (1.0, 0.125490203499794, 0.501960813999176),\n",
        "             (0.9411764740943909, 0.250980406999588, 1.0),\n",
        "             (0.501960813999176, 0.125490203499794, 1.0),\n",
        "             (0.250980406999588, 0.250980406999588, 1.0),\n",
        "             (0.125490203499794, 0.125490203499794, 0.501960813999176),\n",
        "             (0.125490203499794, 0.125490203499794, 0.125490203499794),\n",
        "             (0.501960813999176, 0.501960813999176, 0.501960813999176),\n",
        "             (0.8784313797950745, 0.8784313797950745, 0.8784313797950745),\n",
        "             (0.9333333373069763, 0.8313725590705872, 0.7372549176216125),\n",
        "             (0.8549019694328308, 0.6509804129600525, 0.47058823704719543),\n",
        "             (0.6274510025978088, 0.42352941632270813, 0.23529411852359772),\n",
        "             (0.4000000059604645, 0.20000000298023224, 0.0)]\n",
        "\n",
        "# Cria o colormap a partir da paleta definida\n",
        "cmap = mcolors.ListedColormap(cmap_data, 'precipitation')\n",
        "\n",
        "# Normaliza os dados com base nos intervalos definidos em clevs\n",
        "norm = mcolors.BoundaryNorm(clevs, cmap.N)\n",
        "\n",
        "# Plota os dados de precipitação usando contornos preenchidos\n",
        "cs = ax.contourf(x_merge, y_merge, data_merge, clevs, cmap=cmap, norm=norm)\n",
        "\n",
        "# Adiciona a barra de cores (legenda do mapa) na parte inferior\n",
        "cbar = plt.colorbar(cs, orientation='horizontal', pad=0.03)\n",
        "\n",
        "# Define o texto da legenda da barra de cores\n",
        "cbar.set_label('[mm]', fontsize=14)\n",
        "\n",
        "# Define o título da figura com o mês e ano selecionados\n",
        "ax.set_title(f\"ACUMULADO DE PRECIPITAÇÃO DO MÊS - {ano}/{mes:02d}\", fontsize=14, fontweight='bold', y=1.02)"
      ],
      "metadata": {
        "id": "J3Vj-Qc77nKo"
      },
      "execution_count": null,
      "outputs": []
    },
    {
      "cell_type": "code",
      "source": [
        "# =====================================\n",
        "# ERA5 - Variável meteorológica velocidade do vento\n",
        "# =====================================\n",
        "# Seleciona a variável de velocidade do vento e remove a dimensão 'time'\n",
        "var_era5 = data_mes_era5['vv10m'].squeeze()\n",
        "data_era5 = var_era5.values\n",
        "# =====================================\n",
        "\n",
        "# Cria uma figura com tamanho 8x8 polegadas\n",
        "fig = plt.figure(figsize=(8, 8))\n",
        "\n",
        "# Adiciona um único subplot com projeção geográfica definida em 'proj'\n",
        "ax = fig.add_subplot(1, 1, 1, projection=proj)\n",
        "\n",
        "# Desenha os contornos do mapa (litoral, fronteiras e estados)\n",
        "ax.coastlines()                     # Linhas costeiras\n",
        "ax.add_feature(cfeature.BORDERS)   # Fronteiras entre países\n",
        "ax.add_feature(cfeature.STATES)    # Limites dos estados (Brasil)\n",
        "\n",
        "# Define os níveis de contorno para a velocidade do vento (em m/s)\n",
        "clevs = list(range(0, 11))  # [0, 1, 2, ..., 8]\n",
        "\n",
        "# Define a paleta de cores personalizada para representar os níveis de chuva\n",
        "cmap = mpl.cm.jet\n",
        "\n",
        "# Normaliza os dados com base nos intervalos definidos em clevs\n",
        "norm = mcolors.BoundaryNorm(clevs, cmap.N)\n",
        "\n",
        "# Plota os dados de precipitação usando contornos preenchidos\n",
        "cs = ax.contourf(x_era5, y_era5, data_era5, clevs, cmap=cmap, norm=norm)\n",
        "\n",
        "# Adiciona a barra de cores (legenda do mapa) na parte inferior\n",
        "cbar = plt.colorbar(cs, orientation='horizontal', pad=0.03)\n",
        "\n",
        "# Define o texto da legenda da barra de cores\n",
        "cbar.set_label('[m/s]', fontsize=14)\n",
        "\n",
        "# Define o título da figura com o mês e ano selecionados\n",
        "ax.set_title(f\"VELOCIDADE DO VENTO MÉDIA DO MÊS - {mes:02d}/{ano}\", fontsize=14, fontweight='bold', y=1.02)"
      ],
      "metadata": {
        "id": "swYHMwBX7nIL"
      },
      "execution_count": null,
      "outputs": []
    },
    {
      "cell_type": "code",
      "source": [
        "# =====================================\n",
        "# ERA5 - Variável meteorológica temperatura do ar\n",
        "# =====================================\n",
        "# Seleciona a variável de temperatura do ar e remove a dimensão 'time'\n",
        "var_era5 = data_mes_era5['temp_c'].squeeze()\n",
        "data_era5 = var_era5.values\n",
        "# =====================================\n",
        "\n",
        "# Cria uma figura com tamanho 8x8 polegadas\n",
        "fig = plt.figure(figsize=(8, 8))\n",
        "\n",
        "# Adiciona um único subplot com projeção geográfica definida em 'proj'\n",
        "ax = fig.add_subplot(1, 1, 1, projection=proj)\n",
        "\n",
        "# Desenha os contornos do mapa (litoral, fronteiras e estados)\n",
        "ax.coastlines()                     # Linhas costeiras\n",
        "ax.add_feature(cfeature.BORDERS)   # Fronteiras entre países\n",
        "ax.add_feature(cfeature.STATES)    # Limites dos estados (Brasil)\n",
        "\n",
        "# Define os níveis de contorno para a temperatura do ar (em celsius)\n",
        "clevs = list(range(0, 41))\n",
        "\n",
        "# Define a paleta de cores personalizada para representar os níveis de chuva\n",
        "cmap = mpl.cm.jet\n",
        "\n",
        "# Normaliza os dados com base nos intervalos definidos em clevs\n",
        "norm = mcolors.BoundaryNorm(clevs, cmap.N)\n",
        "\n",
        "# Plota os dados de precipitação usando contornos preenchidos\n",
        "cs = ax.contourf(x_era5, y_era5, data_era5, clevs, cmap=cmap, norm=norm)\n",
        "\n",
        "# Adiciona a barra de cores (legenda do mapa) na parte inferior\n",
        "cbar = plt.colorbar(cs, orientation='horizontal', pad=0.03)\n",
        "\n",
        "# Define o texto da legenda da barra de cores\n",
        "cbar.set_label('[°C]', fontsize=14)\n",
        "\n",
        "# Define o título da figura com o mês e ano selecionados\n",
        "ax.set_title(f\"TEMPERATURA MÉDIA DO MÊS - {mes:02d}/{ano}\", fontsize=14, fontweight='bold', y=1.02)"
      ],
      "metadata": {
        "id": "qgX-XyEr7lhb"
      },
      "execution_count": null,
      "outputs": []
    }
  ]
}